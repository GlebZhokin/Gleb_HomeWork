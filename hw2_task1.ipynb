lst = input("Введите числа через пробел: ").split()
new_lst = []
mxlst = max(lst)
mnlst = min(lst)
for i in lst:
	if i == mnlst:
		new_lst.append(mxlst)
	elif i == mxlst:
		new_lst.append(mnlst)
	else:
		new_lst.append(i)
print(new_lst)