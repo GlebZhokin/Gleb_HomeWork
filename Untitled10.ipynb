{
  "nbformat": 4,
  "nbformat_minor": 0,
  "metadata": {
    "colab": {
      "provenance": [],
      "authorship_tag": "ABX9TyPRGvaLV3MHZChTYB20E2xc",
      "include_colab_link": true
    },
    "kernelspec": {
      "name": "python3",
      "display_name": "Python 3"
    },
    "language_info": {
      "name": "python"
    }
  },
  "cells": [
    {
      "cell_type": "markdown",
      "metadata": {
        "id": "view-in-github",
        "colab_type": "text"
      },
      "source": [
        "<a href=\"https://colab.research.google.com/github/GlebZhokin/Gleb_HomeWork/blob/main/Untitled10.ipynb\" target=\"_parent\"><img src=\"https://colab.research.google.com/assets/colab-badge.svg\" alt=\"Open In Colab\"/></a>"
      ]
    },
    {
      "cell_type": "code",
      "source": [
        "def distance(x1, y1, x2, y2):\n",
        "  a = (x1, y1)\n",
        "  b = (x2, y2)\n",
        "  return (sum((ab1 - ab2) ** 2.0 for ab1, ab2 in zip(a, b))) ** 0.5\n",
        "distance(-1, -2, -3, 4)\n"
      ],
      "metadata": {
        "colab": {
          "base_uri": "https://localhost:8080/"
        },
        "id": "RC7bRtinaxlw",
        "outputId": "bc6e7939-84f4-44b7-cc73-1b28601c3b33"
      },
      "execution_count": 23,
      "outputs": [
        {
          "output_type": "execute_result",
          "data": {
            "text/plain": [
              "6.324555320336759"
            ]
          },
          "metadata": {},
          "execution_count": 23
        }
      ]
    },
    {
      "cell_type": "code",
      "source": [
        "a = (4, 7)\n",
        "b = (2, 3)\n",
        "c = dict(zip(a, b))\n",
        "print(c)"
      ],
      "metadata": {
        "colab": {
          "base_uri": "https://localhost:8080/"
        },
        "id": "3_Zqn7xaunbK",
        "outputId": "a140ed6f-fde4-433c-a21c-9f37fbc134b3"
      },
      "execution_count": 30,
      "outputs": [
        {
          "output_type": "stream",
          "name": "stdout",
          "text": [
            "{4: 2, 7: 3}\n"
          ]
        }
      ]
    }
  ]
}