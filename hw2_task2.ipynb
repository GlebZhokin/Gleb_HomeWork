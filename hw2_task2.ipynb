lst = [1, 2, 3, 4, 5]
for i in range(0, len(lst) - 1, 2):
        lst[i], lst[i + 1] = lst[i + 1], lst[i]
print(lst)