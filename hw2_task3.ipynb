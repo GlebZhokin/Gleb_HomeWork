stud_h = [170, 168, 165, 160, 160, 157, 152]
pet_h = 160
pet_place = 1
for i in stud_h:
    if i >= pet_h:
        pet_place += 1
print(pet_place)
