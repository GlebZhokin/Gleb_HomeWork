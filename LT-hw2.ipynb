{
  "nbformat": 4,
  "nbformat_minor": 0,
  "metadata": {
    "colab": {
      "provenance": []
    },
    "kernelspec": {
      "name": "python3",
      "display_name": "Python 3"
    },
    "language_info": {
      "name": "python"
    }
  },
  "cells": [
    {
      "cell_type": "markdown",
      "source": [
        "Задача 1. Время"
      ],
      "metadata": {
        "id": "ZhYo94n1Nk4P"
      }
    },
    {
      "cell_type": "code",
      "execution_count": 2,
      "metadata": {
        "colab": {
          "base_uri": "https://localhost:8080/"
        },
        "id": "pq77ntgLNSIw",
        "outputId": "730517f0-4280-4d86-a8d4-447c40843afd"
      },
      "outputs": [
        {
          "output_type": "stream",
          "name": "stdout",
          "text": [
            "Введите число секунд: 7543\n",
            "Время: 2:5:43\n"
          ]
        }
      ],
      "source": [
        "seconds = int(input(\"Введите число секунд: \"))\n",
        "hours = seconds // 3600\n",
        "minutes = seconds % 3600 // 60\n",
        "new_seconds = seconds % 3600 % 60\n",
        "print(f'Время: {hours}:{minutes}:{new_seconds}')"
      ]
    },
    {
      "cell_type": "markdown",
      "source": [
        "Задача 2. kg/lb"
      ],
      "metadata": {
        "id": "1vyaQOrmPPoN"
      }
    },
    {
      "cell_type": "code",
      "source": [
        "kg = float(input(\"Введите значение в кг: \"))\n",
        "lb = kg * 2.2046\n",
        "print(f'Фунты: {lb}')"
      ],
      "metadata": {
        "colab": {
          "base_uri": "https://localhost:8080/"
        },
        "id": "n1JgR4SePdOK",
        "outputId": "54d47b97-fc2b-4241-9271-f026158f7c0c"
      },
      "execution_count": 7,
      "outputs": [
        {
          "output_type": "stream",
          "name": "stdout",
          "text": [
            "Введите значение в кг: 1\n",
            "Фунты: 2.2046\n"
          ]
        }
      ]
    },
    {
      "cell_type": "markdown",
      "source": [
        "Задача 3. Проценты от целого"
      ],
      "metadata": {
        "id": "L3NtJzBORITg"
      }
    },
    {
      "cell_type": "code",
      "source": [
        "whole = float(input(\"Введите целое: \"))\n",
        "part = float(input(\"Введите часть: \"))\n",
        "percent_part = part / whole * 100\n",
        "print(percent_part)"
      ],
      "metadata": {
        "colab": {
          "base_uri": "https://localhost:8080/"
        },
        "id": "8EaGTNXoRSfR",
        "outputId": "1b320e05-27a4-4b4c-97e2-ae6c2091317f"
      },
      "execution_count": 8,
      "outputs": [
        {
          "output_type": "stream",
          "name": "stdout",
          "text": [
            "Введите целое: 100\n",
            "Введите часть: 20\n",
            "20.0\n"
          ]
        }
      ]
    },
    {
      "cell_type": "markdown",
      "source": [
        "Задача 4. Первая цифра после точки"
      ],
      "metadata": {
        "id": "cpDAW1g_TDY9"
      }
    },
    {
      "cell_type": "code",
      "source": [
        "num = float(input(\"Введите число с плавающей точкой: \"))\n",
        "decimal1 = int(num * 10 % 10)\n",
        "print(decimal1)"
      ],
      "metadata": {
        "colab": {
          "base_uri": "https://localhost:8080/"
        },
        "id": "dpCM4sCPTCwK",
        "outputId": "512d8cdd-f6c5-4742-cdc3-331c2fd5df6d"
      },
      "execution_count": 11,
      "outputs": [
        {
          "output_type": "stream",
          "name": "stdout",
          "text": [
            "Введите число с плавающей точкой: 123.435\n",
            "4\n"
          ]
        }
      ]
    }
  ]
}