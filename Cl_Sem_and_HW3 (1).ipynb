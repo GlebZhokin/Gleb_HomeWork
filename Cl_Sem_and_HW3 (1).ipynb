{
  "nbformat": 4,
  "nbformat_minor": 0,
  "metadata": {
    "colab": {
      "provenance": []
    },
    "kernelspec": {
      "name": "python3",
      "display_name": "Python 3"
    },
    "language_info": {
      "name": "python"
    }
  },
  "cells": [
    {
      "cell_type": "markdown",
      "source": [
        "Задача 1. Найти расстояние между двумя точками"
      ],
      "metadata": {
        "id": "Vw0n77OmJSMe"
      }
    },
    {
      "cell_type": "markdown",
      "source": [],
      "metadata": {
        "id": "4EtSOxON73Jf"
      }
    },
    {
      "cell_type": "code",
      "execution_count": 9,
      "metadata": {
        "colab": {
          "base_uri": "https://localhost:8080/"
        },
        "id": "7YhxBX0FIdN5",
        "outputId": "323a9f68-4f29-4b03-9d21-92178d16dfcd"
      },
      "outputs": [
        {
          "output_type": "execute_result",
          "data": {
            "text/plain": [
              "6.324555320336759"
            ]
          },
          "metadata": {},
          "execution_count": 9
        }
      ],
      "source": [
        "def distance(x1, y1, x2, y2):\n",
        "  a1 = (x1, y1)\n",
        "  b1 = (x2, y2)\n",
        "  return (sum((a2 - b2) ** 2.0 for a2, b2 in zip(a1, b1))) ** 0.5\n",
        "distance(-1, -2, -3, 4)"
      ]
    },
    {
      "cell_type": "markdown",
      "source": [
        "Задача 2. Последовательность в обратном порядке"
      ],
      "metadata": {
        "id": "NLEcgZE4Jbnq"
      }
    },
    {
      "cell_type": "code",
      "source": [
        "def sequence_reversed(sequence, count=0):\n",
        "    itr = sequence[count]\n",
        "    if itr != 0:\n",
        "        sequence_reversed(sequence, count + 1)\n",
        "    print(itr, end=' ')\n",
        "\n",
        "sequence_reversed(tuple(int(i) for i in(input().split())))"
      ],
      "metadata": {
        "colab": {
          "base_uri": "https://localhost:8080/"
        },
        "id": "sNT3yAR_JqCL",
        "outputId": "ff2aaf9d-3d3f-40cb-92f0-3a2d99c69209"
      },
      "execution_count": null,
      "outputs": [
        {
          "output_type": "stream",
          "name": "stdout",
          "text": [
            "1 2 3 4 0\n",
            "0 4 3 2 1 "
          ]
        }
      ]
    },
    {
      "cell_type": "markdown",
      "source": [
        "Задача 3. Генератор по одному слову с заглавной\n"
      ],
      "metadata": {
        "id": "Zf6ciBT2W6xH"
      }
    },
    {
      "cell_type": "code",
      "source": [
        "def upper_gen(sentence):\n",
        "  new_sentence = sentence.split()\n",
        "  for word in new_sentence:\n",
        "    yield ''.join(letter.upper() for letter in word if letter.isalnum() or letter == \"-\")\n",
        "\n",
        "sentence = 'Мама мыла красно-белую раму, напевая песню.'\n",
        "printed_gen = upper_gen(sentence)\n",
        "for upper_word in printed_gen:\n",
        "  print(upper_word)"
      ],
      "metadata": {
        "colab": {
          "base_uri": "https://localhost:8080/"
        },
        "id": "U4KhVBLxoiF9",
        "outputId": "e9886386-5770-4d74-d47b-9bc4663ba2ab"
      },
      "execution_count": null,
      "outputs": [
        {
          "output_type": "stream",
          "name": "stdout",
          "text": [
            "МАМА\n",
            "МЫЛА\n",
            "КРАСНО-БЕЛУЮ\n",
            "РАМУ\n",
            "НАПЕВАЯ\n",
            "ПЕСНЮ\n"
          ]
        }
      ]
    },
    {
      "cell_type": "markdown",
      "source": [
        "Задача 4. Кортежи парами"
      ],
      "metadata": {
        "id": "qQrosttJ73Px"
      }
    },
    {
      "cell_type": "code",
      "source": [
        "new_list = []\n",
        "\n",
        "while True:\n",
        "    keyboard = input(\"Вводите по 2 элемента через пробел (для завершения нажмите Enter в пустой строке): \")\n",
        "    if not keyboard:\n",
        "        break\n",
        "    elems = keyboard.split()\n",
        "    new_list.append(tuple(elems))\n",
        "\n",
        "elem1, elem2 = zip(*new_list)\n",
        "print(elem1, elem2)"
      ],
      "metadata": {
        "colab": {
          "base_uri": "https://localhost:8080/"
        },
        "id": "JPIYCEwb75qE",
        "outputId": "d047a92c-3173-4de7-d7c2-058785e0b833"
      },
      "execution_count": null,
      "outputs": [
        {
          "output_type": "stream",
          "name": "stdout",
          "text": [
            "Вводите по 2 элемента через пробел (для завершения нажмите Enter в пустой строке): 1 2\n",
            "Вводите по 2 элемента через пробел (для завершения нажмите Enter в пустой строке): 1 2\n",
            "Вводите по 2 элемента через пробел (для завершения нажмите Enter в пустой строке): \n",
            "('1', '1') ('2', '2')\n"
          ]
        }
      ]
    },
    {
      "cell_type": "markdown",
      "source": [
        "Задача 5. Список длин"
      ],
      "metadata": {
        "id": "icJSxhrkCSo9"
      }
    },
    {
      "cell_type": "code",
      "source": [
        "words = input('Вводите слова через пробел: ').split()\n",
        "#1\n",
        "words_lengths1 = [len(i) for i in words]\n",
        "print(words_lengths1)\n",
        "#2\n",
        "words_lengths2 = list(map(len, words))\n",
        "print(words_lengths2)"
      ],
      "metadata": {
        "colab": {
          "base_uri": "https://localhost:8080/"
        },
        "id": "u8qHKhgrCYwC",
        "outputId": "24b66a09-dac0-4b4c-cf15-da78b78ff203"
      },
      "execution_count": null,
      "outputs": [
        {
          "output_type": "stream",
          "name": "stdout",
          "text": [
            "Вводите слова через пробел: раз два пять восемь\n",
            "[3, 3, 4, 6]\n",
            "[3, 3, 4, 6]\n"
          ]
        }
      ]
    },
    {
      "cell_type": "markdown",
      "source": [
        "Задача 6. Кириллица"
      ],
      "metadata": {
        "id": "Euv3jTRHEsuU"
      }
    },
    {
      "cell_type": "code",
      "source": [
        "letters = \"абвгдеёжзийклмнопрстуфхцчшщъыьэюяАБВГДЕЁЖЗИЙКЛМНОПРСТУФХЦЧШЩЪЫЬЭЮЯ\"\n",
        "cyrillic_set = set(letters)\n",
        "print(cyrillic_set)"
      ],
      "metadata": {
        "colab": {
          "base_uri": "https://localhost:8080/"
        },
        "id": "Nbfi_ogrEx9V",
        "outputId": "2ce6996b-3349-4556-966d-45887f36fde0"
      },
      "execution_count": null,
      "outputs": [
        {
          "output_type": "stream",
          "name": "stdout",
          "text": [
            "{'Ш', 'Ь', 'г', 'Б', 'Г', 'Э', 'И', 'щ', 'Ф', 'Щ', 'а', 'Ё', 'Ж', 'ч', 'К', 'х', 'Н', 'Д', 'Л', 'о', 'В', 'ё', 'Ю', 'Й', 'и', 'М', 'П', 'к', 'Ы', 'Х', 'ъ', 'р', 'м', 'т', 'ж', 'э', 'я', 'й', 'с', 'ф', 'ы', 'ь', 'п', 'ц', 'А', 'О', 'Ц', 'в', 'З', 'Е', 'С', 'Р', 'Ч', 'Я', 'з', 'Ъ', 'у', 'У', 'н', 'л', 'д', 'е', 'ю', 'ш', 'Т', 'б'}\n"
          ]
        }
      ]
    },
    {
      "cell_type": "markdown",
      "source": [
        "Задача 7. Кириллица функция"
      ],
      "metadata": {
        "id": "MjhIXJ4MKNZ7"
      }
    },
    {
      "cell_type": "code",
      "source": [
        "def is_cyrillic(word):\n",
        "  letters = \"абвгдеёжзийклмнопрстуфхцчшщъыьэюяАБВГДЕЁЖЗИЙКЛМНОПРСТУФХЦЧШЩЪЫЬЭЮЯ\"\n",
        "  cyrillic_set = set(letters)\n",
        "  set_word = set(word)\n",
        "  return set_word.issubset(cyrillic_set)\n",
        "\n",
        "words_list = input('Вводите слова через пробел: ').split()\n",
        "cyrillic_only = [i for i in words_list if is_cyrillic(i)]\n",
        "print(cyrillic_only)"
      ],
      "metadata": {
        "colab": {
          "base_uri": "https://localhost:8080/"
        },
        "id": "dKIQ_vaIMQU6",
        "outputId": "c157e3b9-d8e8-4082-aa67-da302c730b81"
      },
      "execution_count": null,
      "outputs": [
        {
          "output_type": "stream",
          "name": "stdout",
          "text": [
            "Вводите слова через пробел: mama мама\n",
            "['мама']\n"
          ]
        }
      ]
    },
    {
      "cell_type": "markdown",
      "source": [
        "Задача 8. Пересечение списков чисел"
      ],
      "metadata": {
        "id": "Oyq8GMwDymho"
      }
    },
    {
      "cell_type": "code",
      "source": [
        "list_a = list(range(1, 21))\n",
        "list_b = list(range(13, 28))\n",
        "set_a = set(list_a)\n",
        "set_b = set(list_b)\n",
        "num_intersection = sorted(list(set_a & set_b))\n",
        "print(num_intersection)"
      ],
      "metadata": {
        "colab": {
          "base_uri": "https://localhost:8080/"
        },
        "id": "nSbpz5NHy0Tp",
        "outputId": "15beba92-8131-480e-d534-57d241bf332b"
      },
      "execution_count": null,
      "outputs": [
        {
          "output_type": "stream",
          "name": "stdout",
          "text": [
            "[13, 14, 15, 16, 17, 18, 19, 20]\n"
          ]
        }
      ]
    },
    {
      "cell_type": "markdown",
      "source": [
        "Задача 9. Лексическое разнообразие"
      ],
      "metadata": {
        "id": "CJt7C3rR7ZiA"
      }
    },
    {
      "cell_type": "code",
      "source": [
        "def lexdiv(our_text):\n",
        "    list_of_words = []\n",
        "    last_word = []\n",
        "    for char in our_text:\n",
        "        if char.isalnum():\n",
        "            last_word.append(char)\n",
        "        elif char == '-' or char == \"'\" and last_word:\n",
        "            last_word.append(char)\n",
        "        else:\n",
        "            if last_word:\n",
        "                list_of_words.append(''.join(last_word))\n",
        "                last_word = []\n",
        "    unique_words = set(list_of_words)\n",
        "    lexical_diversity = len(unique_words) / len(list_of_words)\n",
        "    return lexical_diversity\n",
        "\n",
        "text_rus = '''\n",
        "Тьма, пришедшая со Средиземного моря, накрыла ненавидимый прокуратором город.\n",
        "Исчезли висячие мосты, соединяющие храм со страшной Антониевой башней, опустилась с неба бездна и залила крылатых богов над гипподромом,\n",
        "Хасмонейский дворец с бойницами, базары, караван-сараи, переулки, пруды... Пропал Ершалаим - великий город, как будто не существовал на свете.\n",
        "Все пожрала тьма, напугавшая все живое в Ершалаиме и его окрестностях.\n",
        "Странную тучу принесло со стороны моря к концу дня, четырнадцатого дня весеннего месяца нисана.\n",
        "'''\n",
        "\n",
        "text_eng = '''\n",
        "I’m rightly tired of the pain I hear and feel, boss.\n",
        "I’m tired of bein on the road, lonely as a robin in the rain. Not never havin no buddy to go on with or tell me where we’s comin from or goin to or why.\n",
        "I’m tired of people bein ugly to each other. It feels like pieces of glass in my head.\n",
        "I’m tired of all the times I’ve wanted to help and couldn’t. I’m tired of bein in the dark.\n",
        "Mostly it’s the pain. There’s too much. If I could end it, I would. But I can’t.\n",
        "'''\n",
        "print(f'Лексическое разнообразие русского и английского текстов: {lexdiv(text_rus):.2f}, и {lexdiv(text_eng):.2f} соответственно')"
      ],
      "metadata": {
        "colab": {
          "base_uri": "https://localhost:8080/"
        },
        "id": "CWkZ2meT7dAG",
        "outputId": "82939e14-0a35-4214-9cc1-c98e4f9e936a"
      },
      "execution_count": null,
      "outputs": [
        {
          "output_type": "stream",
          "name": "stdout",
          "text": [
            "Лексическое разнообразие русского и английского текстов: 0.90, и 0.61 соответственно\n"
          ]
        }
      ]
    },
    {
      "cell_type": "markdown",
      "source": [
        "**Домашняя работа**"
      ],
      "metadata": {
        "id": "tznR-0zpA_KJ"
      }
    },
    {
      "cell_type": "markdown",
      "source": [
        "Задача 1. Ученики и языки"
      ],
      "metadata": {
        "id": "hUDOJxuxsCIr"
      }
    },
    {
      "cell_type": "code",
      "source": [
        "num_students = int(input(\"Введите общее количество школьников: \"))\n",
        "\n",
        "all_languages = set()\n",
        "common_languages = None\n",
        "\n",
        "for _ in range(num_students):\n",
        "    user_lang_input = input().split()\n",
        "    student_languages = set(user_lang_input)\n",
        "\n",
        "    all_languages.update(student_languages)\n",
        "\n",
        "    if common_languages is None:\n",
        "        common_languages = student_languages.copy()\n",
        "    else:\n",
        "        common_languages = common_languages.intersection(student_languages)\n",
        "\n",
        "print(\"Языки, которые знает хотя бы один школьник:\", all_languages)\n",
        "if common_languages:\n",
        "    print(\"Языки, которые знают все школьники:\", common_languages)\n",
        "else:\n",
        "    print(\"Нет таких языков, которые знают все школьники\")\n"
      ],
      "metadata": {
        "colab": {
          "base_uri": "https://localhost:8080/"
        },
        "id": "jcvlRdzQsBOC",
        "outputId": "46b6a544-15ed-4192-839d-42ef6d187547"
      },
      "execution_count": null,
      "outputs": [
        {
          "output_type": "stream",
          "name": "stdout",
          "text": [
            "Введите общее количество школьников: 2\n",
            "eng\n",
            "eng rus\n",
            "Языки, которые знает хотя бы один школьник: {'rus', 'eng'}\n",
            "Языки, которые знают все школьники: {'eng'}\n"
          ]
        }
      ]
    },
    {
      "cell_type": "markdown",
      "source": [
        "Задача 4. Сложение матриц"
      ],
      "metadata": {
        "id": "ZQVBPzLcv_U-"
      }
    },
    {
      "cell_type": "code",
      "source": [
        "def plus_matrix(matrix1, matrix2):\n",
        "\n",
        "    result = []\n",
        "\n",
        "    for i in range(len(matrix1)):\n",
        "        row = []\n",
        "        for j in range(len(matrix1[0])):\n",
        "            row.append(matrix1[i][j] + matrix2[i][j])\n",
        "        result.append(row)\n",
        "\n",
        "    return result\n",
        "\n",
        "matrix1 = [\n",
        "    [1, 1, 1],\n",
        "    [1, 1, 1],\n",
        "    [1, 1, 1]\n",
        "]\n",
        "\n",
        "matrix2 = [\n",
        "    [1, 2, 3],\n",
        "    [4, 5, 6],\n",
        "    [7, 8, 9]\n",
        "]\n",
        "\n",
        "final_matrix = plus_matrix(matrix1, matrix2)\n",
        "\n",
        "print(\"Результат сложения двух матриц:\")\n",
        "for row in final_matrix:\n",
        "    print(row)"
      ],
      "metadata": {
        "colab": {
          "base_uri": "https://localhost:8080/"
        },
        "id": "cqZ0dZMyvshJ",
        "outputId": "45519ce9-f2f3-48ed-964c-f4ef418647f6"
      },
      "execution_count": null,
      "outputs": [
        {
          "output_type": "stream",
          "name": "stdout",
          "text": [
            "Результат сложения матриц:\n",
            "[2, 3, 4]\n",
            "[5, 6, 7]\n",
            "[8, 9, 10]\n"
          ]
        }
      ]
    },
    {
      "cell_type": "markdown",
      "source": [
        "Задача 5. Умножение матриц"
      ],
      "metadata": {
        "id": "f6dVxwiiwzoZ"
      }
    },
    {
      "cell_type": "code",
      "source": [
        "import string\n",
        "\n",
        "def clean_punctuation(text):\n",
        "\n",
        "    translator = str.maketrans('', '', string.punctuation)\n",
        "    cleaned_text = text.translate(translator)\n",
        "\n",
        "    words = cleaned_text.split()\n",
        "    return words\n",
        "\n",
        "def words_frequency(words):\n",
        "\n",
        "    frequency = {}\n",
        "\n",
        "    for word in words:\n",
        "        if word in frequency:\n",
        "            frequency[word] += 1\n",
        "        else:\n",
        "            frequency[word] = 1\n",
        "\n",
        "    return frequency\n",
        "\n",
        "text = '''\n",
        "Тьма, пришедшая со Средиземного моря, накрыла ненавидимый прокуратором город.\n",
        "Исчезли висячие мосты, соединяющие храм со страшной Антониевой башней, опустилась с неба бездна и залила крылатых богов над гипподромом,\n",
        "Хасмонейский дворец с бойницами, базары, караван-сараи, переулки, пруды... Пропал Ершалаим - великий город, как будто не существовал на свете.\n",
        "Все пожрала тьма, напугавшая все живое в Ершалаиме и его окрестностях.\n",
        "Странную тучу принесло со стороны моря к концу дня, четырнадцатого дня весеннего месяца нисана.\n",
        "'''\n",
        "\n",
        "words = clean_punctuation(text)\n",
        "print('Список слов:', words)\n",
        "\n",
        "frequency = words_frequency(words)\n",
        "print('Частотный список слов:', frequency)\n"
      ],
      "metadata": {
        "colab": {
          "base_uri": "https://localhost:8080/"
        },
        "id": "_MGOMkBnye1x",
        "outputId": "aca79320-9320-40a1-c133-2cd377d40de8"
      },
      "execution_count": null,
      "outputs": [
        {
          "output_type": "stream",
          "name": "stdout",
          "text": [
            "Список слов: ['Тьма', 'пришедшая', 'со', 'Средиземного', 'моря', 'накрыла', 'ненавидимый', 'прокуратором', 'город', 'Исчезли', 'висячие', 'мосты', 'соединяющие', 'храм', 'со', 'страшной', 'Антониевой', 'башней', 'опустилась', 'с', 'неба', 'бездна', 'и', 'залила', 'крылатых', 'богов', 'над', 'гипподромом', 'Хасмонейский', 'дворец', 'с', 'бойницами', 'базары', 'каравансараи', 'переулки', 'пруды', 'Пропал', 'Ершалаим', 'великий', 'город', 'как', 'будто', 'не', 'существовал', 'на', 'свете', 'Все', 'пожрала', 'тьма', 'напугавшая', 'все', 'живое', 'в', 'Ершалаиме', 'и', 'его', 'окрестностях', 'Странную', 'тучу', 'принесло', 'со', 'стороны', 'моря', 'к', 'концу', 'дня', 'четырнадцатого', 'дня', 'весеннего', 'месяца', 'нисана']\n",
            "Частотный список слов: {'Тьма': 1, 'пришедшая': 1, 'со': 3, 'Средиземного': 1, 'моря': 2, 'накрыла': 1, 'ненавидимый': 1, 'прокуратором': 1, 'город': 2, 'Исчезли': 1, 'висячие': 1, 'мосты': 1, 'соединяющие': 1, 'храм': 1, 'страшной': 1, 'Антониевой': 1, 'башней': 1, 'опустилась': 1, 'с': 2, 'неба': 1, 'бездна': 1, 'и': 2, 'залила': 1, 'крылатых': 1, 'богов': 1, 'над': 1, 'гипподромом': 1, 'Хасмонейский': 1, 'дворец': 1, 'бойницами': 1, 'базары': 1, 'каравансараи': 1, 'переулки': 1, 'пруды': 1, 'Пропал': 1, 'Ершалаим': 1, 'великий': 1, 'как': 1, 'будто': 1, 'не': 1, 'существовал': 1, 'на': 1, 'свете': 1, 'Все': 1, 'пожрала': 1, 'тьма': 1, 'напугавшая': 1, 'все': 1, 'живое': 1, 'в': 1, 'Ершалаиме': 1, 'его': 1, 'окрестностях': 1, 'Странную': 1, 'тучу': 1, 'принесло': 1, 'стороны': 1, 'к': 1, 'концу': 1, 'дня': 2, 'четырнадцатого': 1, 'весеннего': 1, 'месяца': 1, 'нисана': 1}\n"
          ]
        }
      ]
    }
  ]
}