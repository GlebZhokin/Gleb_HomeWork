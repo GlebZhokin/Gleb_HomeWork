def remove_duplicates(lst):

    j = 0
    for i in range(len(lst)):
        is_duplicate = False
        for k in range(j):
            if lst[i] == lst[k]:
                is_duplicate = True
                break

        if not is_duplicate:
            lst[j] = lst[i]
            j += 1

    del lst[j:]
    return lst

lst = [5, 7, 5, 8, 1, 2, 2, 7, 5, 1]
print(remove_duplicates(lst))
