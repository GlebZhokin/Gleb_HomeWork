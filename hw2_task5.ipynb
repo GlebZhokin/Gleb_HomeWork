{
 "cells": [
  {
   "cell_type": "markdown",
   "metadata": {},
   "source": [
    "Дан список. Удалите из списка все повторы, то есть, оставьте в списке каждый элемент только в одном экземпляре (остаться должно только первое появление элемента в списке). Программа не должна использовать дополнительную память: это означает, что нельзя пользоваться множествами и генераторами, можно только производить изменения в самом списке."
   ]
  },
  {
   "cell_type": "code",
   "execution_count": 9,
   "metadata": {},
   "outputs": [
    {
     "name": "stdout",
     "output_type": "stream",
     "text": [
      "[1, 2, 3, 4, 5, 6]\n"
     ]
    }
   ],
   "source": [
    "def remove_duplicates(lst):\n",
    "\n",
    "    # Используем два указателя: i для текущего элемента, j для проверки дубликатов\n",
    "    j = 0\n",
    "    for i in range(len(lst)):\n",
    "        # Проверяем, есть ли дубликаты элемента lst[i] в части списка до j\n",
    "        is_duplicate = False\n",
    "        for k in range(j):\n",
    "            if lst[i] == lst[k]:\n",
    "                is_duplicate = True\n",
    "                break\n",
    "\n",
    "        # Если элемент не является дубликатом, перемещаем его на позицию j\n",
    "        if not is_duplicate:\n",
    "            lst[j] = lst[i]\n",
    "            j += 1\n",
    "\n",
    "    # Обрезка списка до j, чтобы удалить дубликаты\n",
    "    del lst[j:]\n",
    "    return lst\n",
    "\n",
    "# Пример использования\n",
    "lst = [1, 2, 3, 1, 2, 4, 5, 3, 6]\n",
    "print(remove_duplicates(lst))  # Вывод: [1, 2, 3, 4, 5, 6]\n",
    "\n"
   ]
  }
 ],
 "metadata": {
  "kernelspec": {
   "display_name": "Python 3",
   "language": "python",
   "name": "python3"
  },
  "language_info": {
   "codemirror_mode": {
    "name": "ipython",
    "version": 3
   },
   "file_extension": ".py",
   "mimetype": "text/x-python",
   "name": "python",
   "nbconvert_exporter": "python",
   "pygments_lexer": "ipython3",
   "version": "3.12.6"
  }
 },
 "nbformat": 4,
 "nbformat_minor": 2
}
