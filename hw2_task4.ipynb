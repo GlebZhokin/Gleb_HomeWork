{
 "cells": [
  {
   "cell_type": "markdown",
   "metadata": {},
   "source": [
    "Известно, что на доске 8х8 можно расставить 8 ферзей так, чтобы они не били друг друга. Вам дана расстановка 8 ферзей на доске, определите, есть ли среди них пара бьющих друг друга. Программа получает на вход восемь пар чисел, каждое число от 1 до 8 — координаты 8 ферзей. Если ферзи не бьют друг друга, выведите слово NO, иначе выведите YES."
   ]
  },
  {
   "cell_type": "code",
   "execution_count": 31,
   "metadata": {},
   "outputs": [
    {
     "name": "stdout",
     "output_type": "stream",
     "text": [
      "Yes\n"
     ]
    }
   ],
   "source": [
    "queens = input(\"Введите координаты ферзей по 1 числу через пробел: \").split()\n",
    "for i in queens:\n",
    "    check_x = queens[0::2].count(i)\n",
    "for i in queens:\n",
    "    check_y = queens[1::2].count(i)\n",
    "if check_x > 1 or check_y > 1:\n",
    "    print(\"Yes\")\n",
    "else:\n",
    "    queens_num = [int(i) for i in queens]\n",
    "    queens_x = queens_num[0::2]\n",
    "    queens_y = queens_num[1::2]\n",
    "    count = 0\n",
    "    for i in range(8):\n",
    "        for d in range(i + 1, 8):\n",
    "            if abs(queens_x[i] - queens_x[d]) == abs(queens_y[i] - queens_y[d]):\n",
    "                count += 1\n",
    "    if count > 0:\n",
    "        print(\"Yes\")\n",
    "    else:\n",
    "        print(\"No\")"
   ]
  }
 ],
 "metadata": {
  "kernelspec": {
   "display_name": "Python 3",
   "language": "python",
   "name": "python3"
  },
  "language_info": {
   "codemirror_mode": {
    "name": "ipython",
    "version": 3
   },
   "file_extension": ".py",
   "mimetype": "text/x-python",
   "name": "python",
   "nbconvert_exporter": "python",
   "pygments_lexer": "ipython3",
   "version": "3.12.6"
  }
 },
 "nbformat": 4,
 "nbformat_minor": 2
}
