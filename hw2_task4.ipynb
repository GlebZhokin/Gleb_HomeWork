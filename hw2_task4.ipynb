queens = input("Введите координаты ферзей по 1 числу через пробел: ").split()
queens_num = [int(i) for i in queens]
queens_x = queens_num[0::2]
queens_y = queens_num[1::2]
count = 0
for i in range(8):
    for d in range(i + 1, 8):
        if (queens_x[i] == queens_x[d] or queens_y[i] == queens_y[d]) or (abs(queens_x[i] - queens_x[d]) == abs(queens_y[i] - queens_y[d])):
            count += 1
if count > 0:
    print("Yes")
else:
    print("No")
