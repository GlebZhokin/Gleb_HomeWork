{
  "nbformat": 4,
  "nbformat_minor": 0,
  "metadata": {
    "colab": {
      "provenance": []
    },
    "kernelspec": {
      "name": "python3",
      "display_name": "Python 3"
    },
    "language_info": {
      "name": "python"
    }
  },
  "cells": [
    {
      "cell_type": "markdown",
      "source": [
        "Задача 1. Коты и владельцы"
      ],
      "metadata": {
        "id": "y7Ayrsduuffh"
      }
    },
    {
      "cell_type": "code",
      "execution_count": 4,
      "metadata": {
        "id": "ro5249ofO2Ay",
        "colab": {
          "base_uri": "https://localhost:8080/"
        },
        "outputId": "ed318578-b2da-40e3-a546-167e73ac64cb"
      },
      "outputs": [
        {
          "output_type": "stream",
          "name": "stdout",
          "text": [
            "Алексей Егоров: Мартин, 5\n",
            "Анна Самохина: Фродо, 3\n",
            "Андрей Белов: Вася, 4; Матильда, 8\n",
            "Игорь Бероев: Муся, 7; Изольда, 2\n",
            "Марина Апраксина: Снейп, 1; Снежок, 3\n",
            "Виталий Соломин: Лютик, 4; Барсик, 2\n",
            "Сергей Колесников: Марта, 5\n",
            "Алена Федорова: Буся, 12\n",
            "Игорь Андропов: Джонни, 10\n",
            "Даниил Невзоров: Мурзик, 1\n",
            "Владимир Медведев: Рыжик, 7\n",
            "Александр Березуев: Гарфилд, 3\n"
          ]
        }
      ],
      "source": [
        "cats = [\n",
        "    ('Мартин', 5, 'Алексей', 'Егоров'),\n",
        "    ('Фродо', 3, 'Анна', 'Самохина'),\n",
        "    ('Вася', 4, 'Андрей', 'Белов'),\n",
        "    ('Муся', 7, 'Игорь', 'Бероев'),\n",
        "    ('Изольда', 2, 'Игорь', 'Бероев'),\n",
        "    ('Снейп', 1, 'Марина', 'Апраксина'),\n",
        "    ('Лютик', 4, 'Виталий', 'Соломин'),\n",
        "    ('Снежок', 3, 'Марина', 'Апраксина'),\n",
        "    ('Марта', 5, 'Сергей', 'Колесников'),\n",
        "    ('Буся', 12, 'Алена', 'Федорова'),\n",
        "    ('Джонни', 10, 'Игорь', 'Андропов'),\n",
        "    ('Мурзик', 1, 'Даниил', 'Невзоров'),\n",
        "    ('Барсик', 2, 'Виталий', 'Соломин'),\n",
        "    ('Рыжик', 7, 'Владимир', 'Медведев'),\n",
        "    ('Матильда', 8, 'Андрей', 'Белов'),\n",
        "    ('Гарфилд', 3, 'Александр', 'Березуев')\n",
        "]\n",
        "\n",
        "owners_cats = {}\n",
        "\n",
        "for cat in cats:\n",
        "    name, age, first_name, last_name = cat\n",
        "    owner = (first_name, last_name)\n",
        "    if owner not in owners_cats:\n",
        "        owners_cats[owner] = []\n",
        "    owners_cats[owner].append((name, age))\n",
        "\n",
        "for owner in owners_cats:\n",
        "    owner_name = f\"{owner[0]} {owner[1]}\"\n",
        "    cats_info = \"; \".join([f\"{name}, {age}\" for name, age in owners_cats[owner]])\n",
        "    print(f\"{owner_name}: {cats_info}\")\n",
        "\n"
      ]
    },
    {
      "cell_type": "markdown",
      "source": [
        "Задача 2. (дз)"
      ],
      "metadata": {
        "id": "M4GKq3Rwur8C"
      }
    },
    {
      "cell_type": "code",
      "source": [
        "def count_votes(votes):\n",
        "\n",
        "    vote_counter = {}\n",
        "\n",
        "    for name, dish in votes:\n",
        "        if dish in vote_counter:\n",
        "            vote_counter[dish] += 1\n",
        "        else:\n",
        "            vote_counter[dish] = 1\n",
        "\n",
        "    winner_candidate = max(vote_counter.values())\n",
        "\n",
        "    # Поиск всех блюд, которые набрали макс. кол. голосов\n",
        "    winners = [dish for dish, count in vote_counter.items() if count == winner_candidate]\n",
        "\n",
        "    return vote_counter, winners\n",
        "\n",
        "votes = [\n",
        "    (\"Анна\", \"Пицца\"),\n",
        "    (\"Олег\", \"Бургер\"),\n",
        "    (\"Мария\", \"Пицца\"),\n",
        "    (\"Алексей\", \"Паста\"),\n",
        "    (\"Ольга\", \"Бургер\"),\n",
        "    (\"Иван\", \"Пицца\"),\n",
        "    (\"Вика\", \"Бургер\")]\n",
        "\n",
        "vote_counter, winners = count_votes(votes)\n",
        "print(\"Общее количество голосов:\", vote_counter)\n",
        "print(\"Блюда-победители:\", \", \".join(winners))\n"
      ],
      "metadata": {
        "colab": {
          "base_uri": "https://localhost:8080/"
        },
        "id": "rDFqFAEH22x-",
        "outputId": "3dfc328e-e5d2-428b-ecba-8319ff2db6f9"
      },
      "execution_count": 11,
      "outputs": [
        {
          "output_type": "stream",
          "name": "stdout",
          "text": [
            "Общее количество голосов: {'Пицца': 3, 'Бургер': 3, 'Паста': 1}\n",
            "Блюда-победители: Пицца, Бургер\n"
          ]
        }
      ]
    }
  ]
}