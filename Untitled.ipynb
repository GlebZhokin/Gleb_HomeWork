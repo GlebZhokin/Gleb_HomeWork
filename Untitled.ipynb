{
  "nbformat": 4,
  "nbformat_minor": 0,
  "metadata": {
    "colab": {
      "provenance": []
    },
    "kernelspec": {
      "name": "python3",
      "display_name": "Python 3"
    },
    "language_info": {
      "name": "python"
    }
  },
  "cells": [
    {
      "cell_type": "markdown",
      "source": [
        "2. Левенштейн"
      ],
      "metadata": {
        "id": "0A2e4deXBsD4"
      }
    },
    {
      "cell_type": "code",
      "source": [
        "# Скрипт придумал не сам\n",
        "\n",
        "def levenshtein_distance(s1, s2):\n",
        "\n",
        "# Создаем список чисел в диапазоне длины второго слова\n",
        "# В него мы будем записывать каждое новое значение, выведенное из алгоритма Вагнера-Фишера\n",
        "# Делаем его на 1 больше, так как в таблице у нас первые строчки пустые, и в Python счёт самих букв начинается с 0, а не с 1, как в той же таблице\n",
        "# Но нам же нужен тот самый нуль в левом верхнем углу для начала отсчёта\n",
        "    previous_row = list(range(len(s2) + 1))\n",
        "\n",
        "# Двойной for in. Внешний просто проходится по каждому индексу первого слова (которое расположено вертикально)\n",
        "    for i in range(len(s1)):\n",
        "        current_row = [i + 1]\n",
        "\n",
        "# Второй цикл полностью повторяет наши действия, когда мы заполняем строчку в таблице:\n",
        "# Первая буква вертикального слова сравнивается со всеми буквами горизонтального\n",
        "# Вычитания в индексах нам уже не понадобятся\n",
        "# Зато в первом варианте понадобится сложение, чтобы формула не съехала\n",
        "        for j in range(len(s2)):\n",
        "            paste = previous_row[j + 1] + 1\n",
        "            delete = current_row[j] + 1\n",
        "            switch = previous_row[j] + (s1[i] != s2[j])\n",
        "            current_row.append(min(paste, delete, switch))\n",
        "\n",
        "# Так как у нас нет таблицы, мы обновяем ряд после каждой полной итерации по букве вертикального слова\n",
        "        previous_row = current_row\n",
        "\n",
        "# Возвращаем крайнее правое число нижнего ряда. У нас оно просто крайнее правое\n",
        "    return previous_row[-1]\n",
        "\n",
        "word1 = \"программирование\"\n",
        "word2 = \"лингвистика\"\n",
        "print(f\"Расстояние Левенштейна между '{word1}' и '{word2}' = {levenshtein_distance(word1, word2)}\")\n",
        "\n",
        "word11 = \"levenshtein\"\n",
        "word22 = \"einstein\"\n",
        "print(f\"Расстояние Левенштейна между '{word11}' и '{word22}' = {levenshtein_distance(word11, word22)}\")"
      ],
      "metadata": {
        "colab": {
          "base_uri": "https://localhost:8080/"
        },
        "id": "T6tXvTCjpmQX",
        "outputId": "7466a849-d981-4c93-c268-4736eef56df4"
      },
      "execution_count": 8,
      "outputs": [
        {
          "output_type": "stream",
          "name": "stdout",
          "text": [
            "Расстояние Левенштейна между 'программирование' и 'лингвистика' = 13\n",
            "Расстояние Левенштейна между 'levenshtein' и 'einstein' = 4\n"
          ]
        }
      ]
    },
    {
      "cell_type": "markdown",
      "source": [
        "3. Регулярные выражения"
      ],
      "metadata": {
        "id": "TWOd4p-NBrYs"
      }
    },
    {
      "cell_type": "code",
      "source": [
        "import re\n",
        "#Сделал регулярные сам, попросил нейросеть оформить в Python, чтобы можно было дз удобно скинуть 1 файлом\n",
        "\n",
        "# Регулярное выражение для поиска электронной почты\n",
        "email_pattern = re.compile(r'\\b[a-zA-Z0-9._%+-]+@[a-zA-Z0-9]+\\.[a-zA-Z]{2,3}\\b')\n",
        "\n",
        "# Регулярное выражение для поиска пути файла\n",
        "file_path_pattern = re.compile(r'^(?:[a-zA-Z]:\\\\|/)?(?:[a-zA-Z0-9._-]+/)*(?P<name>[a-zA-Z0-9._-]+)\\.(?P<ext>[a-zA-Z0-9]+)$')\n",
        "\n",
        "# Примеры использования\n",
        "emails = [\"example@example.com\", \"user.name@domain.co.uk\", \"invalid-email@\"]\n",
        "file_paths = [\"/home/user/file.txt\", \"C:\\\\Users\\\\user\\\\file.txt\", \"invalid/path/file\"]\n",
        "\n",
        "for email in emails:\n",
        "    if email_pattern.match(email):\n",
        "        print(f\"Valid email: {email}\")\n",
        "    else:\n",
        "        print(f\"Invalid email: {email}\")\n",
        "\n",
        "for path in file_paths:\n",
        "    match = file_path_pattern.match(path)\n",
        "    if match:\n",
        "        print(f\"Valid file path: {path}\")\n",
        "        print(f\"File name: {match.group(1)}, File extension: {match.group(2)}\")\n",
        "    else:\n",
        "        print(f\"Invalid file path: {path}\")\n"
      ],
      "metadata": {
        "colab": {
          "base_uri": "https://localhost:8080/"
        },
        "id": "4itGrhfCDUs3",
        "outputId": "27795af8-ff9f-478c-a0bc-2c39005a53c1"
      },
      "execution_count": 24,
      "outputs": [
        {
          "output_type": "stream",
          "name": "stdout",
          "text": [
            "Valid email: example@example.com\n",
            "Valid email: user.name@domain.co.uk\n",
            "Invalid email: invalid-email@\n",
            "Valid file path: /home/user/file.txt\n",
            "File name: file, File extension: txt\n",
            "Invalid file path: C:\\Users\\user\\file.txt\n",
            "Invalid file path: invalid/path/file\n"
          ]
        }
      ]
    }
  ]
}